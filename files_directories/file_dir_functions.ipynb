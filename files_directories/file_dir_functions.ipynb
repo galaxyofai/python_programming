{
 "cells": [
  {
   "cell_type": "code",
   "execution_count": 1,
   "metadata": {},
   "outputs": [],
   "source": [
    "# Create Directory If Does Not Exists\n",
    "import os\n",
    "if os.path.exists(\"./resize_images\") == False:\n",
    "    os.mkdir(\"./resize_images\") #single directory"
   ]
  },
  {
   "cell_type": "code",
   "execution_count": 7,
   "metadata": {},
   "outputs": [],
   "source": [
    "import os\n",
    "def delete_files(filepath):\n",
    "    try:\n",
    "        os.remove(filepath)\n",
    "        return True\n",
    "    except Exception as e:\n",
    "        return {\"exception\":str(e)}\n",
    "        "
   ]
  },
  {
   "cell_type": "code",
   "execution_count": 8,
   "metadata": {},
   "outputs": [
    {
     "data": {
      "text/plain": [
       "True"
      ]
     },
     "execution_count": 8,
     "metadata": {},
     "output_type": "execute_result"
    }
   ],
   "source": [
    "delete_files(\"1.txt\")"
   ]
  },
  {
   "cell_type": "code",
   "execution_count": 15,
   "metadata": {},
   "outputs": [],
   "source": [
    "# remove empty directory\n",
    "import os\n",
    "def delete_directory(dirpath):\n",
    "    try:\n",
    "        os.rmdir(dirpath)\n",
    "        return True\n",
    "    except Exception as e:\n",
    "        return {\"exception\":str(e)}\n",
    "        "
   ]
  },
  {
   "cell_type": "code",
   "execution_count": null,
   "metadata": {},
   "outputs": [],
   "source": [
    "# remove empty directory\n",
    "import os\n",
    "def delete_directory(dirpath):\n",
    "    try:\n",
    "        os.removedirs(dirpath)\n",
    "        return True\n",
    "    except Exception as e:\n",
    "        return {\"exception\":str(e)}"
   ]
  },
  {
   "cell_type": "code",
   "execution_count": 17,
   "metadata": {},
   "outputs": [
    {
     "data": {
      "text/plain": [
       "True"
      ]
     },
     "execution_count": 17,
     "metadata": {},
     "output_type": "execute_result"
    }
   ],
   "source": [
    "delete_directory(\"./we\")"
   ]
  },
  {
   "cell_type": "code",
   "execution_count": 19,
   "metadata": {},
   "outputs": [],
   "source": [
    "# Remove Non-empty Directories\n",
    "\n",
    "\n",
    "import shutil\n",
    "\n",
    "def remove_directory(dirpath):\n",
    "    try:\n",
    "\n",
    "        shutil.rmtree(dirpath)\n",
    "        return True\n",
    "    except Exception as e:\n",
    "        return {\"Exception\":str(e)}\n"
   ]
  },
  {
   "cell_type": "code",
   "execution_count": 20,
   "metadata": {},
   "outputs": [
    {
     "data": {
      "text/plain": [
       "True"
      ]
     },
     "execution_count": 20,
     "metadata": {},
     "output_type": "execute_result"
    }
   ],
   "source": [
    "remove_directory(\"./1\")"
   ]
  },
  {
   "cell_type": "code",
   "execution_count": null,
   "metadata": {},
   "outputs": [],
   "source": [
    "# get size of files "
   ]
  },
  {
   "cell_type": "code",
   "execution_count": 3,
   "metadata": {},
   "outputs": [],
   "source": [
    "def read_txt_file(filename):\n",
    "    try:\n",
    "        with open(filename,\"r\") as fr:\n",
    "           text_list=fr.readlines()\n",
    "           fr.close()\n",
    "\n",
    "        return text_list\n",
    "        \n",
    "    except Exception as e:\n",
    "        st.error(str(e))\n",
    "        st.error(\"error in  delete file\")"
   ]
  },
  {
   "cell_type": "code",
   "execution_count": null,
   "metadata": {},
   "outputs": [],
   "source": []
  },
  {
   "cell_type": "code",
   "execution_count": null,
   "metadata": {},
   "outputs": [],
   "source": [
    "def create_txt_file(filename,text):\n",
    "    try:\n",
    "        # text_file=filename+\".txt\"\n",
    "        text_file=filename  \n",
    "        print(\"text_file_path_2\",text_file)\n",
    "\n",
    "        if os.path.exists(text_file):\n",
    "            with open(text_file,\"a\") as fb:\n",
    "                for line in text:\n",
    "                    fb.write(line+\"\\n\")\n",
    "                fb.close()\n",
    "        else:\n",
    "            with open(text_file,\"a\") as fb:\n",
    "                for line in text:\n",
    "                    fb.write(line+\"\\n\")\n",
    "                fb.close()\n",
    "\n",
    "    except Exception as e:\n",
    "        st.error(str(e))\n",
    "\n",
    "        st.error(\"error in  create_txt_file\")"
   ]
  },
  {
   "cell_type": "code",
   "execution_count": 53,
   "metadata": {},
   "outputs": [],
   "source": [
    "import os\n",
    "\n",
    "def get_size(file_path):\n",
    "    try:\n",
    "        size_kb=os.path.getsize(filename=file_path)/1024\n",
    "        return size_kb\n",
    "    except Exception as e:\n",
    "        return {\"Exception\":str(e)}"
   ]
  },
  {
   "cell_type": "code",
   "execution_count": 54,
   "metadata": {},
   "outputs": [
    {
     "name": "stdout",
     "output_type": "stream",
     "text": [
      "1.095703125\n"
     ]
    }
   ],
   "source": [
    "print(get_size(file_path=\"./files_directories.ipynb\"))"
   ]
  },
  {
   "cell_type": "code",
   "execution_count": 47,
   "metadata": {},
   "outputs": [],
   "source": [
    "import os\n",
    "\n",
    "def get__dir_size(dir_path):\n",
    "    try:\n",
    "        size_kb=os.path.getsize(filename=dir_path)/1024\n",
    "        return {\"dirname\":dir_path,\"dirsize(KB)\":size_kb}\n",
    "    except Exception as e:\n",
    "        return {\"Exception\":str(e)}"
   ]
  },
  {
   "cell_type": "code",
   "execution_count": 49,
   "metadata": {},
   "outputs": [
    {
     "data": {
      "text/plain": [
       "{'dirname': './12', 'dirsize(KB)': 0.3984375}"
      ]
     },
     "execution_count": 49,
     "metadata": {},
     "output_type": "execute_result"
    }
   ],
   "source": [
    "get__dir_size(\"./12\")"
   ]
  },
  {
   "cell_type": "code",
   "execution_count": 52,
   "metadata": {},
   "outputs": [
    {
     "data": {
      "text/plain": [
       "0.3984375"
      ]
     },
     "execution_count": 52,
     "metadata": {},
     "output_type": "execute_result"
    }
   ],
   "source": [
    "import os\n",
    "os.stat(\"./12/\").st_size/1024"
   ]
  },
  {
   "cell_type": "code",
   "execution_count": null,
   "metadata": {},
   "outputs": [],
   "source": []
  }
 ],
 "metadata": {
  "kernelspec": {
   "display_name": "Python 3",
   "language": "python",
   "name": "python3"
  },
  "language_info": {
   "codemirror_mode": {
    "name": "ipython",
    "version": 3
   },
   "file_extension": ".py",
   "mimetype": "text/x-python",
   "name": "python",
   "nbconvert_exporter": "python",
   "pygments_lexer": "ipython3",
   "version": "3.10.6"
  },
  "orig_nbformat": 4
 },
 "nbformat": 4,
 "nbformat_minor": 2
}
