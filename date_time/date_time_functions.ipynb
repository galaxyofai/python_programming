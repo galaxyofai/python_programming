{
 "cells": [
  {
   "cell_type": "code",
   "execution_count": null,
   "metadata": {},
   "outputs": [],
   "source": [
    "from datetime import datetime\n",
    "\n",
    "def getDate():\n",
    "    try:\n",
    "        date_now=datetime.now().date().strftime(\"%m-%d-%Y\")\n",
    "\n",
    "        return date_now\n",
    "    except Exception as e:\n",
    "        return str(e)\n",
    "    \n",
    "print(type(getDate()))"
   ]
  },
  {
   "cell_type": "code",
   "execution_count": null,
   "metadata": {},
   "outputs": [],
   "source": [
    "from datetime import datetime\n",
    "\n",
    "def getTime():\n",
    "    try:\n",
    "        time_now=datetime.now().time().strftime(\"%H:%M:%S\")\n",
    "        return time_now\n",
    "    except Exception as e:\n",
    "        return str(e)\n",
    "    \n",
    "    \n",
    "print(getTime())"
   ]
  },
  {
   "cell_type": "code",
   "execution_count": 12,
   "metadata": {},
   "outputs": [
    {
     "name": "stdout",
     "output_type": "stream",
     "text": [
      "<class 'float'>\n"
     ]
    }
   ],
   "source": [
    "from datetime import datetime\n",
    "\n",
    "def TimeDiff(startTime,lastTime):\n",
    "  \n",
    "    start_time = datetime.strptime(startTime, \"%H:%M:%S\")\n",
    "\n",
    "    last_time = datetime.strptime(lastTime, \"%H:%M:%S\")\n",
    "    delta = last_time - start_time\n",
    "    sec = delta.total_seconds()\n",
    "    min = sec / 60\n",
    "    if min<0:\n",
    "        return \"Start time is greater than end time\"\n",
    "\n",
    "    return min\n",
    "\n",
    "\n",
    "start_time=\"03:26:58\"\n",
    "end_time=\"03:54:58\"\n",
    "print(type(TimeDiff(start_time,end_time)))"
   ]
  }
 ],
 "metadata": {
  "kernelspec": {
   "display_name": "Python 3",
   "language": "python",
   "name": "python3"
  },
  "language_info": {
   "codemirror_mode": {
    "name": "ipython",
    "version": 3
   },
   "file_extension": ".py",
   "mimetype": "text/x-python",
   "name": "python",
   "nbconvert_exporter": "python",
   "pygments_lexer": "ipython3",
   "version": "3.10.6"
  },
  "orig_nbformat": 4
 },
 "nbformat": 4,
 "nbformat_minor": 2
}
